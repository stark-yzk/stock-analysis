{
 "cells": [
  {
   "cell_type": "markdown",
   "metadata": {},
   "source": [
    "# Efficient Frontier\n",
    "\n",
    "Here we will carry out the Mean Variance optimization for a portfolio containing two risky assets. First we will find the return and risk of two stocks from their price data. Then we plot the return and risk of arbitrarily weighted portfolios and identify the efficient frontier.\n",
    "\n",
    "The two assets we choose are Facebook and Proctor&Gamble, one tech stock and one staples stock. These should have a low correlation.\n",
    "\n",
    "### Loading the necessary packages"
   ]
  },
  {
   "cell_type": "code",
   "execution_count": 1,
   "metadata": {},
   "outputs": [],
   "source": [
    "import numpy as np\n",
    "import pandas as pd\n",
    "from pandas_datareader import data as wb\n",
    "import matplotlib.pyplot as plt"
   ]
  },
  {
   "cell_type": "markdown",
   "metadata": {},
   "source": [
    "### Obtaining the price data from Yahoo finance"
   ]
  },
  {
   "cell_type": "code",
   "execution_count": 2,
   "metadata": {},
   "outputs": [
    {
     "name": "stdout",
     "output_type": "stream",
     "text": [
      "please enter the asset1:FB\n",
      "please enter the asset2:FG\n"
     ]
    },
    {
     "data": {
      "text/html": [
       "<div>\n",
       "<style scoped>\n",
       "    .dataframe tbody tr th:only-of-type {\n",
       "        vertical-align: middle;\n",
       "    }\n",
       "\n",
       "    .dataframe tbody tr th {\n",
       "        vertical-align: top;\n",
       "    }\n",
       "\n",
       "    .dataframe thead th {\n",
       "        text-align: right;\n",
       "    }\n",
       "</style>\n",
       "<table border=\"1\" class=\"dataframe\">\n",
       "  <thead>\n",
       "    <tr style=\"text-align: right;\">\n",
       "      <th></th>\n",
       "      <th>FB</th>\n",
       "      <th>FG</th>\n",
       "    </tr>\n",
       "    <tr>\n",
       "      <th>Date</th>\n",
       "      <th></th>\n",
       "      <th></th>\n",
       "    </tr>\n",
       "  </thead>\n",
       "  <tbody>\n",
       "    <tr>\n",
       "      <th>2020-02-25</th>\n",
       "      <td>196.770004</td>\n",
       "      <td>11.84</td>\n",
       "    </tr>\n",
       "    <tr>\n",
       "      <th>2020-02-26</th>\n",
       "      <td>197.199997</td>\n",
       "      <td>11.73</td>\n",
       "    </tr>\n",
       "    <tr>\n",
       "      <th>2020-02-27</th>\n",
       "      <td>189.750000</td>\n",
       "      <td>11.55</td>\n",
       "    </tr>\n",
       "    <tr>\n",
       "      <th>2020-02-28</th>\n",
       "      <td>192.470001</td>\n",
       "      <td>11.44</td>\n",
       "    </tr>\n",
       "    <tr>\n",
       "      <th>2020-03-02</th>\n",
       "      <td>196.440002</td>\n",
       "      <td>11.74</td>\n",
       "    </tr>\n",
       "  </tbody>\n",
       "</table>\n",
       "</div>"
      ],
      "text/plain": [
       "                    FB     FG\n",
       "Date                         \n",
       "2020-02-25  196.770004  11.84\n",
       "2020-02-26  197.199997  11.73\n",
       "2020-02-27  189.750000  11.55\n",
       "2020-02-28  192.470001  11.44\n",
       "2020-03-02  196.440002  11.74"
      ]
     },
     "execution_count": 2,
     "metadata": {},
     "output_type": "execute_result"
    }
   ],
   "source": [
    "asset1=input(\"please enter the asset1:\")\n",
    "asset2=input(\"please enter the asset2:\")\n",
    "asset_list = [asset1, asset2]\n",
    "\n",
    "price_data = pd.DataFrame()\n",
    "\n",
    "for asset in asset_list:\n",
    "    price_data[asset] = wb.DataReader(asset, data_source='yahoo', start='2014-01-01')['Adj Close']\n",
    "\n",
    "price_data.tail()"
   ]
  },
  {
   "cell_type": "markdown",
   "metadata": {},
   "source": [
    "### Obtaining the Return and Risk of each stock from the logarithm returns"
   ]
  },
  {
   "cell_type": "code",
   "execution_count": 3,
   "metadata": {},
   "outputs": [
    {
     "name": "stdout",
     "output_type": "stream",
     "text": [
      "The annual return of FB is 20.622 %\n",
      "The annual return of FG is 5.663 %\n",
      "The annual volatility of FB is 29.579 %\n",
      "The annual volatility of FG is 24.308 %\n",
      "The Covariance matrix is:\n",
      "          FB        FG\n",
      "FB  0.087490  0.010263\n",
      "FG  0.010263  0.059086\n"
     ]
    }
   ],
   "source": [
    "return_data = np.log(price_data/price_data.shift(1))\n",
    "\n",
    "return_data.head()\n",
    "\n",
    "asset1_return = return_data[asset1].mean()*250\n",
    "asset2_return = return_data[asset2].mean()*250\n",
    "\n",
    "print('The annual return of {0} is {1:.3f} %'.format(asset1,asset1_return*100))\n",
    "print('The annual return of {0} is {1:.3f} %'.format(asset2,asset2_return*100))\n",
    "\n",
    "asset1_vol = np.sqrt(return_data[asset1].var()*250)\n",
    "asset2_vol = np.sqrt(return_data[asset2].var()*250)\n",
    "\n",
    "print('The annual volatility of {0} is {1:.3f} %'.format(asset1,asset1_vol*100))\n",
    "print('The annual volatility of {0} is {1:.3f} %'.format(asset2,asset2_vol*100))\n",
    "\n",
    "print('The Covariance matrix is:')\n",
    "print(return_data.cov()*250)"
   ]
  },
  {
   "cell_type": "markdown",
   "metadata": {},
   "source": [
    "### Obtaining the return and risk of a sample portfolio\n",
    "\n",
    "Here we obtain the return and risk of a sample portfolio containing these two stocks. Later in this notebook we would repeat the same process for 1000s of such portfolios to generate the efficient frontier."
   ]
  },
  {
   "cell_type": "code",
   "execution_count": 4,
   "metadata": {},
   "outputs": [
    {
     "name": "stdout",
     "output_type": "stream",
     "text": [
      "The Number of Assets is 2\n",
      "The sum of the weights is 1.0\n",
      "The annual return of the portfolio is 14.216 %\n",
      "The annual volatility of the portfolio is 21.086 %\n"
     ]
    }
   ],
   "source": [
    "num_assets = len(asset_list)\n",
    "print('The Number of Assets is {}'.format(num_assets))\n",
    "\n",
    "weights = np.random.random(num_assets)\n",
    "weights /= sum(weights)\n",
    "print('The sum of the weights is {}'.format(sum(weights)))\n",
    "\n",
    "pf_1_return = np.sum(weights * return_data.mean()) * 250\n",
    "print('The annual return of the portfolio is {0:.3f} %'.format(pf_1_return*100))\n",
    "\n",
    "pf_1_vol = np.sqrt(np.dot(weights.T,np.dot(return_data.cov() * 250, weights)))\n",
    "print('The annual volatility of the portfolio is {0:.3f} %'.format(pf_1_vol*100))\n"
   ]
  },
  {
   "cell_type": "markdown",
   "metadata": {},
   "source": [
    "### Obtaining the return and risk of random portfolios and plotting the efficient frontier\n",
    "\n",
    "Here we obtain the return and volatility of 1000s of sample portfolios containing these two stocks randomly weighted. For each portfolio we calculate the return and volatility which we then append to a list. We then convert the lists into a Pandas dataframe and plot the return and risk of each portfolio to visualize the efficient frontier.\n",
    "\n",
    "Note: These are long only portfolios. This is not always an adequate assumption but is generally true for retail investors"
   ]
  },
  {
   "cell_type": "code",
   "execution_count": 5,
   "metadata": {},
   "outputs": [],
   "source": [
    "iterations = 1000\n",
    "pf_returns = []\n",
    "pf_vol = []"
   ]
  },
  {
   "cell_type": "code",
   "execution_count": 6,
   "metadata": {},
   "outputs": [],
   "source": [
    "for _ in range(iterations):\n",
    "    weights = np.random.random(len(asset_list))\n",
    "    weights /= sum(weights)\n",
    "    pf_returns.append((np.sum(weights * return_data.mean()) * 250)*100)\n",
    "    pf_vol.append((np.sqrt(np.dot(weights.T,np.dot(return_data.cov() * 250, weights))))*100)"
   ]
  },
  {
   "cell_type": "code",
   "execution_count": 7,
   "metadata": {},
   "outputs": [
    {
     "data": {
      "text/html": [
       "<div>\n",
       "<style scoped>\n",
       "    .dataframe tbody tr th:only-of-type {\n",
       "        vertical-align: middle;\n",
       "    }\n",
       "\n",
       "    .dataframe tbody tr th {\n",
       "        vertical-align: top;\n",
       "    }\n",
       "\n",
       "    .dataframe thead th {\n",
       "        text-align: right;\n",
       "    }\n",
       "</style>\n",
       "<table border=\"1\" class=\"dataframe\">\n",
       "  <thead>\n",
       "    <tr style=\"text-align: right;\">\n",
       "      <th></th>\n",
       "      <th>Return</th>\n",
       "      <th>Volatility</th>\n",
       "    </tr>\n",
       "  </thead>\n",
       "  <tbody>\n",
       "    <tr>\n",
       "      <th>0</th>\n",
       "      <td>16.481138</td>\n",
       "      <td>23.322123</td>\n",
       "    </tr>\n",
       "    <tr>\n",
       "      <th>1</th>\n",
       "      <td>12.926920</td>\n",
       "      <td>20.345056</td>\n",
       "    </tr>\n",
       "    <tr>\n",
       "      <th>2</th>\n",
       "      <td>18.700426</td>\n",
       "      <td>26.405841</td>\n",
       "    </tr>\n",
       "    <tr>\n",
       "      <th>3</th>\n",
       "      <td>13.581856</td>\n",
       "      <td>20.668348</td>\n",
       "    </tr>\n",
       "    <tr>\n",
       "      <th>4</th>\n",
       "      <td>11.599737</td>\n",
       "      <td>20.046699</td>\n",
       "    </tr>\n",
       "  </tbody>\n",
       "</table>\n",
       "</div>"
      ],
      "text/plain": [
       "      Return  Volatility\n",
       "0  16.481138   23.322123\n",
       "1  12.926920   20.345056\n",
       "2  18.700426   26.405841\n",
       "3  13.581856   20.668348\n",
       "4  11.599737   20.046699"
      ]
     },
     "execution_count": 7,
     "metadata": {},
     "output_type": "execute_result"
    }
   ],
   "source": [
    "portfolios = pd.DataFrame({'Return': pf_returns, 'Volatility': pf_vol})\n",
    "portfolios.head()"
   ]
  },
  {
   "cell_type": "code",
   "execution_count": 8,
   "metadata": {},
   "outputs": [
    {
     "data": {
      "image/png": "[encoded data removed]",
      "text/plain": [
       "<Figure size 720x432 with 1 Axes>"
      ]
     },
     "metadata": {
      "needs_background": "light"
     },
     "output_type": "display_data"
    }
   ],
   "source": [
    "portfolios.plot(x='Volatility', y='Return', kind='scatter', figsize=(10, 6));\n",
    "plt.xlabel('Expected Volatility (%)', size = 18)\n",
    "plt.ylabel('Expected Return (%)', size = 18)\n",
    "plt.tick_params(labelsize=14)"
   ]
  },
  {
   "cell_type": "markdown",
   "metadata": {},
   "source": [
    "The Efficient Frontier is the upper section of this plot."
   ]
  }
 ],
 "metadata": {
  "kernelspec": {
   "display_name": "Python 3",
   "language": "python",
   "name": "python3"
  },
  "language_info": {
   "codemirror_mode": {
    "name": "ipython",
    "version": 3
   },
   "file_extension": ".py",
   "mimetype": "text/x-python",
   "name": "python",
   "nbconvert_exporter": "python",
   "pygments_lexer": "ipython3",
   "version": "3.7.3"
  }
 },
 "nbformat": 4,
 "nbformat_minor": 2
}
