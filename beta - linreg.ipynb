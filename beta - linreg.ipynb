{
 "cells": [
  {
   "cell_type": "markdown",
   "metadata": {},
   "source": [
    "# Calculating the $\\beta$ of a security using linear regression\n",
    "\n",
    "In this code, we calculate the $\\beta$ of a security. The price data is downloaded from Yahoo finance and the monthly returns are calculated. We choose the Microsoft stock and calculate its correlation with the S&P 500. \n",
    "\n",
    "The Beta of an asset is a measure of the sensitivity of its returns relative to a market benchmark (usually a market index). \n",
    "\n",
    "The formula is: $\\beta = \\frac{cov(r_s r_b)}{var(r_b)}$\n",
    "\n",
    "$r_s$: return of the stock\n",
    "\n",
    "$r_b$: return of the benchmark"
   ]
  },
  {
   "cell_type": "code",
   "execution_count": 1,
   "metadata": {},
   "outputs": [],
   "source": [
    "import numpy as np\n",
    "import pandas as pd\n",
    "from pandas_datareader import data as wb\n",
    "import matplotlib.pyplot as plt\n",
    "import statsmodels.api as sm"
   ]
  },
  {
   "cell_type": "markdown",
   "metadata": {},
   "source": [
    "美股直接输入股票代码如GOOG   \n",
    "港股输入代码+对应股市，如腾讯：0700.hk   \n",
    "国内股票需要区分上证和深证，股票代码后面加.ss或者.sz  \n",
    "请输入你要查询的股票代码：  "
   ]
  },
  {
   "cell_type": "code",
   "execution_count": 2,
   "metadata": {},
   "outputs": [
    {
     "name": "stdout",
     "output_type": "stream",
     "text": [
      "请输入股票代码：601021.ss\n",
      "请输入指数代码：000001.ss\n",
      "请输入开始日期：2015-01-01\n",
      "请输入结束日期：2019-12-31\n",
      "请输入间隔eg-d,m,y:m\n"
     ]
    }
   ],
   "source": [
    "price_data = pd.DataFrame()\n",
    "stock_code=input(\"请输入股票代码：\")\n",
    "index_code=input(\"请输入指数代码：\")\n",
    "start_date=input(\"请输入开始日期：\")\n",
    "end_date=input(\"请输入结束日期：\")\n",
    "interval=input(\"请输入间隔eg-d,m,y:\")\n",
    "asset_list = [stock_code,index_code]\n",
    "\n",
    "for asset in asset_list:\n",
    "    price_data[asset] = wb.get_data_yahoo(asset, start=start_date, end=end_date, interval=interval)['Adj Close']\n",
    "    "
   ]
  },
  {
   "cell_type": "code",
   "execution_count": 3,
   "metadata": {},
   "outputs": [],
   "source": [
    "return_data = price_data/price_data.shift(1)\n",
    "return_data = return_data.dropna(axis=0)"
   ]
  },
  {
   "cell_type": "markdown",
   "metadata": {},
   "source": [
    "We calculate the log-returns and remove the NaN value in the top row.  "
   ]
  },
  {
   "cell_type": "code",
   "execution_count": 4,
   "metadata": {},
   "outputs": [],
   "source": [
    "return_data = np.log(1.0 + price_data.pct_change())\n",
    "return_data = return_data.dropna(axis=0)"
   ]
  },
  {
   "cell_type": "code",
   "execution_count": 5,
   "metadata": {},
   "outputs": [
    {
     "data": {
      "text/html": [
       "<div>\n",
       "<style scoped>\n",
       "    .dataframe tbody tr th:only-of-type {\n",
       "        vertical-align: middle;\n",
       "    }\n",
       "\n",
       "    .dataframe tbody tr th {\n",
       "        vertical-align: top;\n",
       "    }\n",
       "\n",
       "    .dataframe thead th {\n",
       "        text-align: right;\n",
       "    }\n",
       "</style>\n",
       "<table border=\"1\" class=\"dataframe\">\n",
       "  <thead>\n",
       "    <tr style=\"text-align: right;\">\n",
       "      <th></th>\n",
       "      <th>601021.ss</th>\n",
       "      <th>000001.ss</th>\n",
       "    </tr>\n",
       "    <tr>\n",
       "      <th>Date</th>\n",
       "      <th></th>\n",
       "      <th></th>\n",
       "    </tr>\n",
       "  </thead>\n",
       "  <tbody>\n",
       "    <tr>\n",
       "      <th>2015-01-31</th>\n",
       "      <td>0.317544</td>\n",
       "      <td>0.030656</td>\n",
       "    </tr>\n",
       "    <tr>\n",
       "      <th>2015-02-28</th>\n",
       "      <td>0.217472</td>\n",
       "      <td>0.124156</td>\n",
       "    </tr>\n",
       "    <tr>\n",
       "      <th>2015-03-31</th>\n",
       "      <td>0.259984</td>\n",
       "      <td>0.169832</td>\n",
       "    </tr>\n",
       "    <tr>\n",
       "      <th>2015-04-30</th>\n",
       "      <td>0.143219</td>\n",
       "      <td>0.037579</td>\n",
       "    </tr>\n",
       "    <tr>\n",
       "      <th>2015-05-31</th>\n",
       "      <td>-0.032460</td>\n",
       "      <td>-0.075302</td>\n",
       "    </tr>\n",
       "  </tbody>\n",
       "</table>\n",
       "</div>"
      ],
      "text/plain": [
       "            601021.ss  000001.ss\n",
       "Date                            \n",
       "2015-01-31   0.317544   0.030656\n",
       "2015-02-28   0.217472   0.124156\n",
       "2015-03-31   0.259984   0.169832\n",
       "2015-04-30   0.143219   0.037579\n",
       "2015-05-31  -0.032460  -0.075302"
      ]
     },
     "execution_count": 5,
     "metadata": {},
     "output_type": "execute_result"
    }
   ],
   "source": [
    "return_data.head()"
   ]
  },
  {
   "cell_type": "markdown",
   "metadata": {},
   "source": [
    "Calculating the beta using linear regression."
   ]
  },
  {
   "cell_type": "code",
   "execution_count": 6,
   "metadata": {},
   "outputs": [
    {
     "name": "stderr",
     "output_type": "stream",
     "text": [
      "C:\\Users\\27219\\Anaconda3\\lib\\site-packages\\numpy\\core\\fromnumeric.py:2389: FutureWarning: Method .ptp is deprecated and will be removed in a future version. Use numpy.ptp instead.\n",
      "  return ptp(axis=axis, out=out, **kwargs)\n"
     ]
    }
   ],
   "source": [
    "X = return_data[index_code]\n",
    "y = return_data[stock_code]\n",
    "\n",
    "X1 = sm.add_constant(X)\n",
    "\n",
    "model = sm.OLS(y, X1)"
   ]
  },
  {
   "cell_type": "markdown",
   "metadata": {},
   "source": [
    "### fit model and print results"
   ]
  },
  {
   "cell_type": "code",
   "execution_count": 7,
   "metadata": {},
   "outputs": [
    {
     "name": "stdout",
     "output_type": "stream",
     "text": [
      "                            OLS Regression Results                            \n",
      "==============================================================================\n",
      "Dep. Variable:              601021.ss   R-squared:                       0.392\n",
      "Model:                            OLS   Adj. R-squared:                  0.382\n",
      "Method:                 Least Squares   F-statistic:                     37.42\n",
      "Date:                Sat, 13 Jun 2020   Prob (F-statistic):           8.74e-08\n",
      "Time:                        14:47:20   Log-Likelihood:                 69.330\n",
      "No. Observations:                  60   AIC:                            -134.7\n",
      "Df Residuals:                      58   BIC:                            -130.5\n",
      "Df Model:                           1                                         \n",
      "Covariance Type:            nonrobust                                         \n",
      "==============================================================================\n",
      "                 coef    std err          t      P>|t|      [0.025      0.975]\n",
      "------------------------------------------------------------------------------\n",
      "const          0.0083      0.010      0.833      0.408      -0.012       0.028\n",
      "000001.ss      0.9369      0.153      6.117      0.000       0.630       1.244\n",
      "==============================================================================\n",
      "Omnibus:                       12.005   Durbin-Watson:                   1.338\n",
      "Prob(Omnibus):                  0.002   Jarque-Bera (JB):               13.275\n",
      "Skew:                           0.872   Prob(JB):                      0.00131\n",
      "Kurtosis:                       4.506   Cond. No.                         15.3\n",
      "==============================================================================\n",
      "\n",
      "Warnings:\n",
      "[1] Standard Errors assume that the covariance matrix of the errors is correctly specified.\n"
     ]
    }
   ],
   "source": [
    "results = model.fit()\n",
    "print(results.summary())"
   ]
  },
  {
   "cell_type": "code",
   "execution_count": 8,
   "metadata": {},
   "outputs": [
    {
     "data": {
      "text/plain": [
       "0.008335030545088364"
      ]
     },
     "execution_count": 8,
     "metadata": {},
     "output_type": "execute_result"
    }
   ],
   "source": [
    "results.params[0]"
   ]
  },
  {
   "cell_type": "code",
   "execution_count": 9,
   "metadata": {},
   "outputs": [
    {
     "data": {
      "text/plain": [
       "<matplotlib.legend.Legend at 0x24035c475c0>"
      ]
     },
     "execution_count": 9,
     "metadata": {},
     "output_type": "execute_result"
    },
    {
     "data": {
      "image/png": "[encoded data removed]",
      "text/plain": [
       "<Figure size 720x432 with 1 Axes>"
      ]
     },
     "metadata": {
      "needs_background": "light"
     },
     "output_type": "display_data"
    }
   ],
   "source": [
    "return_data.plot(x=index_code, y=stock_code, kind='scatter', figsize=(10, 6));\n",
    "plt.plot(X, float(results.params[1])*X +float(results.params[0]), color = 'r', \n",
    "         label = 'y = {}x+{}'.format(results.params[1].round(4),results.params[0].round(4)))\n",
    "plt.xlabel(index_code+'returns', size = 18)\n",
    "plt.ylabel(stock_code+' returns', size = 18)\n",
    "plt.tick_params(labelsize=14)\n",
    "plt.legend(fontsize = 18)"
   ]
  },
  {
   "cell_type": "code",
   "execution_count": null,
   "metadata": {},
   "outputs": [],
   "source": []
  }
 ],
 "metadata": {
  "kernelspec": {
   "display_name": "Python 3",
   "language": "python",
   "name": "python3"
  },
  "language_info": {
   "codemirror_mode": {
    "name": "ipython",
    "version": 3
   },
   "file_extension": ".py",
   "mimetype": "text/x-python",
   "name": "python",
   "nbconvert_exporter": "python",
   "pygments_lexer": "ipython3",
   "version": "3.7.3"
  }
 },
 "nbformat": 4,
 "nbformat_minor": 4
}
