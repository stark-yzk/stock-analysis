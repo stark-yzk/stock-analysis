{
 "cells": [
  {
   "cell_type": "markdown",
   "metadata": {},
   "source": [
    "# Calculating the $\\beta$ of a security using linear regression\n",
    "\n",
    "In this code, we calculate the $\\beta$ of a security. The price data is downloaded from Yahoo finance and the monthly returns are calculated. We choose the Microsoft stock and calculate its correlation with the S&P 500. \n",
    "\n",
    "The Beta of an asset is a measure of the sensitivity of its returns relative to a market benchmark (usually a market index). \n",
    "\n",
    "The formula is: $\\beta = \\frac{cov(r_s r_b)}{var(r_b)}$\n",
    "\n",
    "$r_s$: return of the stock\n",
    "\n",
    "$r_b$: return of the benchmark"
   ]
  },
  {
   "cell_type": "code",
   "execution_count": 1,
   "metadata": {},
   "outputs": [],
   "source": [
    "import numpy as np\n",
    "import pandas as pd\n",
    "from pandas_datareader import data as wb\n",
    "import matplotlib.pyplot as plt\n",
    "from sklearn.linear_model import LogisticRegression\n",
    "import time"
   ]
  },
  {
   "cell_type": "markdown",
   "metadata": {},
   "source": [
    "美股直接输入股票代码如GOOG   \n",
    "港股输入代码+对应股市，如腾讯：0700.hk   \n",
    "国内股票需要区分上证和深证，股票代码后面加.ss或者.sz  \n",
    "请输入你要查询的股票代码：  "
   ]
  },
  {
   "cell_type": "code",
   "execution_count": 2,
   "metadata": {},
   "outputs": [
    {
     "name": "stdout",
     "output_type": "stream",
     "text": [
      "请输入股票代码：NIO\n",
      "请输入指数代码：^GSPC\n",
      "请输入开始日期：2019-01-01\n",
      "请输入结束日期：2019-12-31\n",
      "请输入间隔eg-d,m,y:d\n"
     ]
    },
    {
     "data": {
      "text/html": [
       "<div>\n",
       "<style scoped>\n",
       "    .dataframe tbody tr th:only-of-type {\n",
       "        vertical-align: middle;\n",
       "    }\n",
       "\n",
       "    .dataframe tbody tr th {\n",
       "        vertical-align: top;\n",
       "    }\n",
       "\n",
       "    .dataframe thead th {\n",
       "        text-align: right;\n",
       "    }\n",
       "</style>\n",
       "<table border=\"1\" class=\"dataframe\">\n",
       "  <thead>\n",
       "    <tr style=\"text-align: right;\">\n",
       "      <th></th>\n",
       "      <th>NIO</th>\n",
       "      <th>^GSPC</th>\n",
       "    </tr>\n",
       "    <tr>\n",
       "      <th>Date</th>\n",
       "      <th></th>\n",
       "      <th></th>\n",
       "    </tr>\n",
       "  </thead>\n",
       "  <tbody>\n",
       "    <tr>\n",
       "      <th>2019-01-02</th>\n",
       "      <td>-0.027050</td>\n",
       "      <td>0.001268</td>\n",
       "    </tr>\n",
       "    <tr>\n",
       "      <th>2019-01-03</th>\n",
       "      <td>-0.024491</td>\n",
       "      <td>-0.025068</td>\n",
       "    </tr>\n",
       "    <tr>\n",
       "      <th>2019-01-04</th>\n",
       "      <td>0.049970</td>\n",
       "      <td>0.033759</td>\n",
       "    </tr>\n",
       "    <tr>\n",
       "      <th>2019-01-07</th>\n",
       "      <td>0.021774</td>\n",
       "      <td>0.006986</td>\n",
       "    </tr>\n",
       "    <tr>\n",
       "      <th>2019-01-08</th>\n",
       "      <td>-0.015504</td>\n",
       "      <td>0.009649</td>\n",
       "    </tr>\n",
       "  </tbody>\n",
       "</table>\n",
       "</div>"
      ],
      "text/plain": [
       "                 NIO     ^GSPC\n",
       "Date                          \n",
       "2019-01-02 -0.027050  0.001268\n",
       "2019-01-03 -0.024491 -0.025068\n",
       "2019-01-04  0.049970  0.033759\n",
       "2019-01-07  0.021774  0.006986\n",
       "2019-01-08 -0.015504  0.009649"
      ]
     },
     "execution_count": 2,
     "metadata": {},
     "output_type": "execute_result"
    }
   ],
   "source": [
    "price_data = pd.DataFrame()\n",
    "stock_code=input(\"请输入股票代码：\")\n",
    "index_code=input(\"请输入指数代码：\")\n",
    "start_date=input(\"请输入开始日期：\")\n",
    "end_date=input(\"请输入结束日期：\")\n",
    "interval=input(\"请输入间隔eg-d,m,y:\")\n",
    "asset_list = [stock_code,index_code]\n",
    "\n",
    "for asset in asset_list:\n",
    "    price_data[asset] = wb.get_data_yahoo(asset, start=start_date, end=end_date, interval=interval)['Adj Close']\n",
    "return_data = np.log(1.0 + price_data.pct_change())\n",
    "return_data = return_data.dropna(axis=0)\n",
    "return_data.head()"
   ]
  },
  {
   "cell_type": "markdown",
   "metadata": {},
   "source": [
    "Calculating the beta using LogisticRegression."
   ]
  },
  {
   "cell_type": "code",
   "execution_count": 3,
   "metadata": {},
   "outputs": [],
   "source": [
    "train_x = return_data[index_code]\n",
    "train_y = return_data[stock_code]"
   ]
  },
  {
   "cell_type": "code",
   "execution_count": 6,
   "metadata": {},
   "outputs": [],
   "source": [
    "from numpy import *\n",
    "import matplotlib.pyplot as plt\n",
    "import time\n",
    "\n",
    "# calculate the sigmoid function\n",
    "def sigmoid(inX):\n",
    "    return 1.0 / (1 + exp(-inX))\n",
    "# train a logistic regression model using some optional optimize algorithm\n",
    "# input: train_x is a mat datatype, each row stands for one sample\n",
    "#         train_y is mat datatype too, each row is the corresponding label\n",
    "#         opts is optimize option include step and maximum number of iterations\n",
    "def trainLogRegres(train_x, train_y, opts):\n",
    "    # calculate training time\n",
    "    startTime = time.time()\n",
    "    numSamples, numFeatures = shape(train_x)\n",
    "    alpha = opts['alpha']; maxIter = opts['maxIter']\n",
    "    weights = ones((numFeatures, 1))\n",
    "    # optimize through gradient descent algorilthm\n",
    "    for k in range(maxIter):\n",
    "        if opts['optimizeType'] == 'gradDescent': # gradient descent algorilthm\n",
    "            output = sigmoid(train_x * weights)\n",
    "            error = train_y - output\n",
    "            weights = weights + alpha * train_x.transpose() * error\n",
    "        elif opts['optimizeType'] == 'stocGradDescent': # stochastic gradient descent\n",
    "            for i in range(numSamples):\n",
    "                output = sigmoid(train_x[i, :] * weights)\n",
    "                error = train_y[i, 0] - output\n",
    "                weights = weights + alpha * train_x[i, :].transpose() * error\n",
    "        elif opts['optimizeType'] == 'smoothStocGradDescent': # smooth stochastic gradient descent\n",
    "            # randomly select samples to optimize for reducing cycle fluctuations \n",
    "            dataIndex = range(numSamples)\n",
    "            for i in range(numSamples):\n",
    "                alpha = 4.0 / (1.0 + k + i) + 0.01\n",
    "                randIndex = int(random.uniform(0, len(dataIndex)))\n",
    "                output = sigmoid(train_x[randIndex, :] * weights)\n",
    "                error = train_y[randIndex, 0] - output\n",
    "                weights = weights + alpha * train_x[randIndex, :].transpose() * error\n",
    "                del(dataIndex[randIndex]) # during one interation, delete the optimized sample\n",
    "        else:\n",
    "            raise NameError('Not support optimize method type!')\n",
    "    print ('Congratulations, training complete! Took %fs!') % (time.time() - startTime)\n",
    "    return weights\n",
    "\n",
    "# test your trained Logistic Regression model given test set\n",
    "def testLogRegres(weights, test_x, test_y):\n",
    "    numSamples, numFeatures = shape(test_x)\n",
    "    matchCount = 0\n",
    "    for i in xrange(numSamples):\n",
    "        predict = sigmoid(test_x[i, :] * weights)[0, 0] > 0.5\n",
    "        if predict == bool(test_y[i, 0]):\n",
    "            matchCount += 1\n",
    "    accuracy = float(matchCount) / numSamples\n",
    "    return accuracy\n",
    "\n",
    "# show your trained logistic regression model only available with 2-D data\n",
    "\n",
    "def showLogRegres(weights, train_x, train_y):\n",
    "    # notice: train_x and train_y is mat datatype\n",
    "    numSamples, numFeatures = shape(train_x)\n",
    "    if numFeatures != 3:\n",
    "        print (\"Sorry! I can not draw because the dimension of your data is not 2!\")\n",
    "        return 1\n",
    "    # draw all samples\n",
    "    for i in xrange(numSamples):\n",
    "        if int(train_y[i, 0]) == 0:\n",
    "            plt.plot(train_x[i, 1], train_x[i, 2], 'or')\n",
    "        elif int(train_y[i, 0]) == 1:\n",
    "            plt.plot(train_x[i, 1], train_x[i, 2], 'ob')\n",
    "\n",
    "    # draw the classify line\n",
    "    min_x = min(train_x[:, 1])[0, 0]\n",
    "    max_x = max(train_x[:, 1])[0, 0]\n",
    "    weights = weights.getA()  # convert mat to array\n",
    "    y_min_x = float(-weights[0] - weights[1] * min_x) / weights[2]\n",
    "    y_max_x = float(-weights[0] - weights[1] * max_x) / weights[2]\n",
    "    plt.plot([min_x, max_x], [y_min_x, y_max_x], '-g')\n",
    "    plt.xlabel('X1'); plt.ylabel('X2')\n",
    "    plt.show()\n"
   ]
  },
  {
   "cell_type": "code",
   "execution_count": 7,
   "metadata": {},
   "outputs": [
    {
     "name": "stdout",
     "output_type": "stream",
     "text": [
      "step 1: load data...\n"
     ]
    }
   ],
   "source": [
    "print (\"step 1: load data...\")\n",
    "test_x = train_x; test_y = train_y"
   ]
  },
  {
   "cell_type": "code",
   "execution_count": 9,
   "metadata": {},
   "outputs": [
    {
     "name": "stdout",
     "output_type": "stream",
     "text": [
      "step 2: training...\n"
     ]
    },
    {
     "ename": "ValueError",
     "evalue": "not enough values to unpack (expected 2, got 1)",
     "output_type": "error",
     "traceback": [
      "\u001b[1;31m---------------------------------------------------------------------------\u001b[0m",
      "\u001b[1;31mValueError\u001b[0m                                Traceback (most recent call last)",
      "\u001b[1;32m<ipython-input-9-aab96ebad282>\u001b[0m in \u001b[0;36m<module>\u001b[1;34m\u001b[0m\n\u001b[0;32m      1\u001b[0m \u001b[0mprint\u001b[0m \u001b[1;33m(\u001b[0m\u001b[1;34m\"step 2: training...\"\u001b[0m\u001b[1;33m)\u001b[0m\u001b[1;33m\u001b[0m\u001b[1;33m\u001b[0m\u001b[0m\n\u001b[0;32m      2\u001b[0m \u001b[0mopts\u001b[0m \u001b[1;33m=\u001b[0m \u001b[1;33m{\u001b[0m\u001b[1;34m'alpha'\u001b[0m\u001b[1;33m:\u001b[0m \u001b[1;36m0.01\u001b[0m\u001b[1;33m,\u001b[0m \u001b[1;34m'maxIter'\u001b[0m\u001b[1;33m:\u001b[0m \u001b[1;36m20\u001b[0m\u001b[1;33m,\u001b[0m \u001b[1;34m'optimizeType'\u001b[0m\u001b[1;33m:\u001b[0m \u001b[1;34m'smoothStocGradDescent'\u001b[0m\u001b[1;33m}\u001b[0m\u001b[1;33m\u001b[0m\u001b[1;33m\u001b[0m\u001b[0m\n\u001b[1;32m----> 3\u001b[1;33m \u001b[0moptimalWeights\u001b[0m \u001b[1;33m=\u001b[0m \u001b[0mtrainLogRegres\u001b[0m\u001b[1;33m(\u001b[0m\u001b[0mtrain_x\u001b[0m\u001b[1;33m,\u001b[0m \u001b[0mtrain_y\u001b[0m\u001b[1;33m,\u001b[0m \u001b[0mopts\u001b[0m\u001b[1;33m)\u001b[0m\u001b[1;33m\u001b[0m\u001b[1;33m\u001b[0m\u001b[0m\n\u001b[0m",
      "\u001b[1;32m<ipython-input-6-6ea44417058b>\u001b[0m in \u001b[0;36mtrainLogRegres\u001b[1;34m(train_x, train_y, opts)\u001b[0m\n\u001b[0;32m     13\u001b[0m     \u001b[1;31m# calculate training time\u001b[0m\u001b[1;33m\u001b[0m\u001b[1;33m\u001b[0m\u001b[1;33m\u001b[0m\u001b[0m\n\u001b[0;32m     14\u001b[0m     \u001b[0mstartTime\u001b[0m \u001b[1;33m=\u001b[0m \u001b[0mtime\u001b[0m\u001b[1;33m.\u001b[0m\u001b[0mtime\u001b[0m\u001b[1;33m(\u001b[0m\u001b[1;33m)\u001b[0m\u001b[1;33m\u001b[0m\u001b[1;33m\u001b[0m\u001b[0m\n\u001b[1;32m---> 15\u001b[1;33m     \u001b[0mnumSamples\u001b[0m\u001b[1;33m,\u001b[0m \u001b[0mnumFeatures\u001b[0m \u001b[1;33m=\u001b[0m \u001b[0mshape\u001b[0m\u001b[1;33m(\u001b[0m\u001b[0mtrain_x\u001b[0m\u001b[1;33m)\u001b[0m\u001b[1;33m\u001b[0m\u001b[1;33m\u001b[0m\u001b[0m\n\u001b[0m\u001b[0;32m     16\u001b[0m     \u001b[0malpha\u001b[0m \u001b[1;33m=\u001b[0m \u001b[0mopts\u001b[0m\u001b[1;33m[\u001b[0m\u001b[1;34m'alpha'\u001b[0m\u001b[1;33m]\u001b[0m\u001b[1;33m;\u001b[0m \u001b[0mmaxIter\u001b[0m \u001b[1;33m=\u001b[0m \u001b[0mopts\u001b[0m\u001b[1;33m[\u001b[0m\u001b[1;34m'maxIter'\u001b[0m\u001b[1;33m]\u001b[0m\u001b[1;33m\u001b[0m\u001b[1;33m\u001b[0m\u001b[0m\n\u001b[0;32m     17\u001b[0m     \u001b[0mweights\u001b[0m \u001b[1;33m=\u001b[0m \u001b[0mones\u001b[0m\u001b[1;33m(\u001b[0m\u001b[1;33m(\u001b[0m\u001b[0mnumFeatures\u001b[0m\u001b[1;33m,\u001b[0m \u001b[1;36m1\u001b[0m\u001b[1;33m)\u001b[0m\u001b[1;33m)\u001b[0m\u001b[1;33m\u001b[0m\u001b[1;33m\u001b[0m\u001b[0m\n",
      "\u001b[1;31mValueError\u001b[0m: not enough values to unpack (expected 2, got 1)"
     ]
    }
   ],
   "source": [
    "print (\"step 2: training...\")\n",
    "opts = {'alpha': 0.01, 'maxIter': 20, 'optimizeType': 'smoothStocGradDescent'}\n",
    "optimalWeights = trainLogRegres(train_x, train_y, opts)\n"
   ]
  },
  {
   "cell_type": "code",
   "execution_count": 11,
   "metadata": {},
   "outputs": [
    {
     "name": "stdout",
     "output_type": "stream",
     "text": [
      "step 3: testing...\n"
     ]
    },
    {
     "ename": "NameError",
     "evalue": "name 'optimalWeights' is not defined",
     "output_type": "error",
     "traceback": [
      "\u001b[1;31m---------------------------------------------------------------------------\u001b[0m",
      "\u001b[1;31mNameError\u001b[0m                                 Traceback (most recent call last)",
      "\u001b[1;32m<ipython-input-11-e8d441755d2c>\u001b[0m in \u001b[0;36m<module>\u001b[1;34m\u001b[0m\n\u001b[0;32m      1\u001b[0m \u001b[0mprint\u001b[0m \u001b[1;33m(\u001b[0m\u001b[1;34m\"step 3: testing...\"\u001b[0m\u001b[1;33m)\u001b[0m\u001b[1;33m\u001b[0m\u001b[1;33m\u001b[0m\u001b[0m\n\u001b[1;32m----> 2\u001b[1;33m \u001b[0maccuracy\u001b[0m \u001b[1;33m=\u001b[0m \u001b[0mtestLogRegres\u001b[0m\u001b[1;33m(\u001b[0m\u001b[0moptimalWeights\u001b[0m\u001b[1;33m,\u001b[0m \u001b[0mtest_x\u001b[0m\u001b[1;33m,\u001b[0m \u001b[0mtest_y\u001b[0m\u001b[1;33m)\u001b[0m\u001b[1;33m\u001b[0m\u001b[1;33m\u001b[0m\u001b[0m\n\u001b[0m",
      "\u001b[1;31mNameError\u001b[0m: name 'optimalWeights' is not defined"
     ]
    }
   ],
   "source": [
    "print (\"step 3: testing...\")\n",
    "accuracy = testLogRegres(optimalWeights, test_x, test_y)"
   ]
  }
 ],
 "metadata": {
  "kernelspec": {
   "display_name": "Python 3",
   "language": "python",
   "name": "python3"
  },
  "language_info": {
   "codemirror_mode": {
    "name": "ipython",
    "version": 3
   },
   "file_extension": ".py",
   "mimetype": "text/x-python",
   "name": "python",
   "nbconvert_exporter": "python",
   "pygments_lexer": "ipython3",
   "version": "3.7.3"
  }
 },
 "nbformat": 4,
 "nbformat_minor": 2
}
