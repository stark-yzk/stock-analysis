{
 "cells": [
  {
   "cell_type": "markdown",
   "metadata": {},
   "source": [
    "# VaR - single asset\n",
    "\n",
    "In this module, I will discuss the procedure to calculate the VaR of a single asset. The VaR methodology is an attempt to provide a single number which summarizes the total risk in a portfolio. \n",
    "\n",
    "While quoting VaR we make a statement of the form:\n",
    "\"We are X percent sure that we will not lose more than V dollars in the next N days\". The variable V is the VaR of the asset/portfolio which is a function of N, the time horizon and X, the confidence level. \n",
    "\n",
    "Here, I demonstrate how to calculate the VaR of a single asset given a confidence level and a time horizon. We first obtain the daily prices for the last 500 days from an online database like yahoo finance. Then we calculate the daily returns and then obtain the VaR using the inverse normal function.\n",
    "\n",
    "If we consider a portfolio of P dollars, with a confidence level c. Let the daily returns have a mean of $\\mu$ and a standard deviation of $\\sigma$\n",
    "\n",
    "Then the daily VaR, under the variance-covariance method for a single asset (or strategy) is calculated as:\n",
    "\n",
    "$P - P(1+\\alpha)$\n",
    " \n",
    "where $\\alpha$ is the inverse of the cumulative distribution function of a normal distribution with mean $\\mu$ and standard deviation $\\sigma$.\n",
    "\n",
    "The n-day VaR is the one-day-VaR times $\\sqrt{n}$"
   ]
  },
  {
   "cell_type": "code",
   "execution_count": 18,
   "metadata": {},
   "outputs": [],
   "source": [
    "import numpy as np\n",
    "import pandas as pd\n",
    "from pandas_datareader import data as wb\n",
    "import datetime \n",
    "from scipy.stats import norm"
   ]
  },
  {
   "cell_type": "code",
   "execution_count": 19,
   "metadata": {},
   "outputs": [],
   "source": [
    "def var_single_asset(asset,p,c,n):\n",
    "    \n",
    "    #input:\n",
    "    #asset: ticker symbol of the stock/index (string)\n",
    "    #p: portfolio value\n",
    "    #c: confidence level\n",
    "    #n: n-day var\n",
    "    \n",
    "    now = datetime.date.today()\n",
    "    today = str(now.year)+ \"-\" + str(now.month) + \"-\" + str(now.day)\n",
    "    two_year = now - dt.timedelta(days=2*365)\n",
    "    two_year = str(two_year.year)+ \"-\" + str(two_year.month) + \"-\" + str(two_year.day)\n",
    "    \n",
    "    price_data = wb.DataReader(asset, data_source='yahoo', start=two_year, end=today)['Close']\n",
    "    price_data = price_data[-500:]\n",
    "    \n",
    "    returns = price_data.pct_change()\n",
    "    mean = np.mean(returns)      #daily mean\n",
    "    std_dev = np.std(returns)    #daily return\n",
    "    \n",
    "    alpha = norm.ppf(1.0-0.99, mean, std_dev)\n",
    "    \n",
    "    var_one = p - p*(1.0+alpha)\n",
    "    \n",
    "    var_n = var_one*np.sqrt(n)\n",
    "    \n",
    "    return \"The {} day VaR at {}% confidence level is: ${}\".format(n,c*100,var_n)\n",
    "    "
   ]
  },
  {
   "cell_type": "code",
   "execution_count": 27,
   "metadata": {},
   "outputs": [
    {
     "name": "stdout",
     "output_type": "stream",
     "text": [
      "please enter stock name: 600717.ss\n",
      "600717.ss\n"
     ]
    },
    {
     "data": {
      "text/plain": [
       "'The 5 day VaR at 99.0% confidence level is: $835.43546102583'"
      ]
     },
     "execution_count": 27,
     "metadata": {},
     "output_type": "execute_result"
    }
   ],
   "source": [
    "stock_name = str(input(\"please enter stock name: \"))\n",
    "print(stock_name)\n",
    "var_single_asset(stock_name,10000,0.99,5)"
   ]
  },
  {
   "cell_type": "code",
   "execution_count": null,
   "metadata": {},
   "outputs": [],
   "source": []
  }
 ],
 "metadata": {
  "kernelspec": {
   "display_name": "Python 3",
   "language": "python",
   "name": "python3"
  },
  "language_info": {
   "codemirror_mode": {
    "name": "ipython",
    "version": 3
   },
   "file_extension": ".py",
   "mimetype": "text/x-python",
   "name": "python",
   "nbconvert_exporter": "python",
   "pygments_lexer": "ipython3",
   "version": "3.7.3"
  }
 },
 "nbformat": 4,
 "nbformat_minor": 2
}
