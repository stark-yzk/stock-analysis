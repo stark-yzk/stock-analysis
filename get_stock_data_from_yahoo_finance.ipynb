{
 "cells": [
  {
   "cell_type": "markdown",
   "metadata": {},
   "source": [
    "美股直接输入股票代码如GOOG \n",
    "港股输入代码+对应股市，如腾讯：0700.hk \n",
    "国内股票需要区分上证和深证，股票代码后面加.ss或者.sz\n",
    "请输入你要查询的股票代码："
   ]
  },
  {
   "cell_type": "code",
   "execution_count": 1,
   "metadata": {},
   "outputs": [
    {
     "name": "stdout",
     "output_type": "stream",
     "text": [
      "please enter the stock code：601021.ss\n",
      "please enter the start date:2015-01-01\n",
      "please enter the end date:2019-12-31\n",
      "                 High        Low       Open      Close       Volume  Adj Close\n",
      "Date                                                                          \n",
      "2015-01-21  13.075000  10.895000  10.895000  13.075000     340200.0  12.786552\n",
      "2015-01-22  14.385000  14.385000  14.385000  14.385000     120800.0  14.067652\n",
      "2015-01-23  15.825000  15.825000  15.825000  15.825000     317000.0  15.475883\n",
      "2015-01-26  17.410000  17.410000  17.410000  17.410000     908200.0  17.025915\n",
      "2015-01-27  19.150000  19.150000  19.150000  19.150000    2703390.0  18.727530\n",
      "2015-01-28  21.065001  21.065001  21.065001  21.065001    5148194.0  20.600283\n",
      "2015-01-29  23.170000  23.170000  23.170000  23.170000    6382418.0  22.658846\n",
      "2015-01-30  25.485001  25.485001  25.485001  25.485001   31086020.0  24.922771\n",
      "2015-02-02  28.035000  25.485001  25.990000  28.035000  123806376.0  27.416519\n",
      "2015-02-03  30.840000  28.760000  29.000000  30.840000   46144424.0  30.159637\n"
     ]
    },
    {
     "name": "stderr",
     "output_type": "stream",
     "text": [
      "C:\\Users\\27219\\Anaconda3\\lib\\site-packages\\pandas\\plotting\\_converter.py:129: FutureWarning: Using an implicitly registered datetime converter for a matplotlib plotting method. The converter was registered by pandas on import. Future versions of pandas will require you to explicitly register matplotlib converters.\n",
      "\n",
      "To register the converters:\n",
      "\t>>> from pandas.plotting import register_matplotlib_converters\n",
      "\t>>> register_matplotlib_converters()\n",
      "  warnings.warn(msg, FutureWarning)\n"
     ]
    },
    {
     "data": {
      "text/plain": [
       "<Figure size 640x480 with 1 Axes>"
      ]
     },
     "metadata": {},
     "output_type": "display_data"
    }
   ],
   "source": [
    "from pandas_datareader import data\n",
    "import matplotlib.pyplot as plt\n",
    "import pandas as pd\n",
    "stock_code = input(\"please enter the stock code：\")\n",
    "start_date = input(\"please enter the start date:\")\n",
    "end_date = input(\"please enter the end date:\")\n",
    "stock_info = data.get_data_yahoo(stock_code, start_date, end_date)\n",
    "# show the top 10 lines\n",
    "print(stock_info.head(10))\n",
    "# print(stock_info.info())\n",
    "#  save as excel file& csv file\n",
    "stock_info.to_excel('%s.xlsx'%stock_code)\n",
    "# visualization\n",
    "plt.plot(stock_info['Close'], 'g')\n",
    "plt.title('stock price plot')\n",
    "plt.xlabel('time')\n",
    "plt.ylabel('close price')\n",
    "plt.show()"
   ]
  },
  {
   "cell_type": "code",
   "execution_count": null,
   "metadata": {},
   "outputs": [],
   "source": []
  }
 ],
 "metadata": {
  "kernelspec": {
   "display_name": "Python 3",
   "language": "python",
   "name": "python3"
  },
  "language_info": {
   "codemirror_mode": {
    "name": "ipython",
    "version": 3
   },
   "file_extension": ".py",
   "mimetype": "text/x-python",
   "name": "python",
   "nbconvert_exporter": "python",
   "pygments_lexer": "ipython3",
   "version": "3.7.3"
  }
 },
 "nbformat": 4,
 "nbformat_minor": 2
}
