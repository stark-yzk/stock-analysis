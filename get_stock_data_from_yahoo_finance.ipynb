{
 "cells": [
  {
   "cell_type": "markdown",
   "metadata": {},
   "source": [
    "美股直接输入股票代码如GOOG \n",
    "港股输入代码+对应股市，如腾讯：0700.hk \n",
    "国内股票需要区分上证和深证，股票代码后面加.ss或者.sz\n",
    "请输入你要查询的股票代码："
   ]
  },
  {
   "cell_type": "code",
   "execution_count": 2,
   "metadata": {},
   "outputs": [
    {
     "name": "stdout",
     "output_type": "stream",
     "text": [
      "请输入你要查询的股票代码：0700.hk\n",
      "please enter the start date2005-01-01\n",
      "please enter the end date2019-12-31\n",
      "             High    Low   Open  Close      Volume  Adj Close\n",
      "Date                                                         \n",
      "2005-01-03  0.950  0.925  0.940  0.925  42585000.0   0.833167\n",
      "2005-01-04  0.960  0.930  0.935  0.960  82450000.0   0.864693\n",
      "2005-01-05  0.950  0.930  0.950  0.940  48495000.0   0.846678\n",
      "2005-01-06  0.945  0.930  0.940  0.940  41089000.0   0.846678\n",
      "2005-01-07  0.950  0.930  0.940  0.940  37435000.0   0.846678\n"
     ]
    },
    {
     "data": {
      "image/png": "[encoded data removed]",
      "text/plain": [
       "<Figure size 432x288 with 1 Axes>"
      ]
     },
     "metadata": {
      "needs_background": "light"
     },
     "output_type": "display_data"
    }
   ],
   "source": [
    "from pandas_datareader import data\n",
    "import matplotlib.pyplot as plt\n",
    "import pandas as pd\n",
    "stock_code = input(\"请输入你要查询的股票代码：\")\n",
    "start_date = input(\"please enter the start date:\")\n",
    "end_date = input(\"please enter the end date:\")\n",
    "stock_info = data.get_data_yahoo(stock_code, start_date, end_date)\n",
    "# 展示前5行\n",
    "print(stock_info.head())\n",
    "# print(stock_info.info())\n",
    "#  保存为Excel文件和CSV文件\n",
    "stock_info.to_excel('%s.xlsx'%stock_code)\n",
    "stock_info.to_csv('%s.csv'%stock_code)\n",
    "# 输出图表\n",
    "plt.plot(stock_info['Close'], 'g')\n",
    "plt.show()"
   ]
  },
  {
   "cell_type": "code",
   "execution_count": 1,
   "metadata": {},
   "outputs": [
    {
     "name": "stdout",
     "output_type": "stream",
     "text": [
      "Collecting nodejs\n",
      "  Downloading nodejs-0.1.1.tar.gz (2.3 kB)\n",
      "Collecting optional-django==0.1.0\n",
      "  Downloading optional-django-0.1.0.tar.gz (9.5 kB)\n",
      "Building wheels for collected packages: nodejs, optional-django\n",
      "  Building wheel for nodejs (setup.py): started\n",
      "  Building wheel for nodejs (setup.py): finished with status 'done'\n",
      "  Created wheel for nodejs: filename=nodejs-0.1.1-py3-none-any.whl size=3497 sha256=0fa2a3b009921076edd8f433538867cb52f0969fb4336cfe0970db5b7b7024fd\n",
      "  Stored in directory: c:\\users\\27219\\appdata\\local\\pip\\cache\\wheels\\80\\3a\\93\\83f57d8cf66261736b920c942905c46e75378805a7af9c5e8d\n",
      "  Building wheel for optional-django (setup.py): started\n",
      "  Building wheel for optional-django (setup.py): finished with status 'done'\n",
      "  Created wheel for optional-django: filename=optional_django-0.1.0-py3-none-any.whl size=9987 sha256=574302868be12439d36fe7e52c89934069002a56775b035b74a17e6ae96e1a95\n",
      "  Stored in directory: c:\\users\\27219\\appdata\\local\\pip\\cache\\wheels\\1c\\e9\\a3\\5e7d589f0ee51e0631361966ac9eb7f063d46f68669ced53b5\n",
      "Successfully built nodejs optional-django\n",
      "Installing collected packages: optional-django, nodejs\n",
      "Successfully installed nodejs-0.1.1 optional-django-0.1.0\n",
      "Note: you may need to restart the kernel to use updated packages.\n"
     ]
    }
   ],
   "source": [
    "pip install nodejs"
   ]
  },
  {
   "cell_type": "code",
   "execution_count": null,
   "metadata": {},
   "outputs": [],
   "source": []
  }
 ],
 "metadata": {
  "kernelspec": {
   "display_name": "Python 3",
   "language": "python",
   "name": "python3"
  },
  "language_info": {
   "codemirror_mode": {
    "name": "ipython",
    "version": 3
   },
   "file_extension": ".py",
   "mimetype": "text/x-python",
   "name": "python",
   "nbconvert_exporter": "python",
   "pygments_lexer": "ipython3",
   "version": "3.7.3"
  }
 },
 "nbformat": 4,
 "nbformat_minor": 2
}
